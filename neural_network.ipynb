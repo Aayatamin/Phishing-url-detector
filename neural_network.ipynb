{
  "nbformat": 4,
  "nbformat_minor": 0,
  "metadata": {
    "colab": {
      "provenance": []
    },
    "kernelspec": {
      "name": "python3",
      "display_name": "Python 3"
    },
    "language_info": {
      "name": "python"
    }
  },
  "cells": [
    {
      "cell_type": "code",
      "execution_count": null,
      "metadata": {
        "colab": {
          "base_uri": "https://localhost:8080/"
        },
        "id": "YqhwegYPDHty",
        "outputId": "0e1f786a-3437-4fde-89c5-db41054c10c0"
      },
      "outputs": [
        {
          "output_type": "stream",
          "name": "stderr",
          "text": [
            "/usr/local/lib/python3.11/dist-packages/keras/src/layers/core/dense.py:87: UserWarning: Do not pass an `input_shape`/`input_dim` argument to a layer. When using Sequential models, prefer using an `Input(shape)` object as the first layer in the model instead.\n",
            "  super().__init__(activity_regularizer=activity_regularizer, **kwargs)\n"
          ]
        },
        {
          "output_type": "stream",
          "name": "stdout",
          "text": [
            "\n",
            "✅ Model Accuracy: 100.00%\n",
            "\n",
            "Enter a URL to check: http://www.legitimatewebsite.com\n",
            "\u001b[1m1/1\u001b[0m \u001b[32m━━━━━━━━━━━━━━━━━━━━\u001b[0m\u001b[37m\u001b[0m \u001b[1m0s\u001b[0m 118ms/step\n",
            "⚠️ Warning: This URL might be phishing!\n"
          ]
        }
      ],
      "source": [
        "import re\n",
        "from urllib.parse import urlparse\n",
        "import numpy as np\n",
        "from sklearn.model_selection import train_test_split\n",
        "from tensorflow.keras.models import Sequential\n",
        "from tensorflow.keras.layers import Dense\n",
        "\n",
        "# ----------------------------------------\n",
        "# Step 1: Feature Extraction Function\n",
        "# ----------------------------------------\n",
        "\n",
        "shorteners = ['bit.ly', 'tinyurl.com', 'goo.gl', 't.co', 'ow.ly', 'buff.ly', 'is.gd', 'cutt.ly']\n",
        "suspicious_words = ['login', 'verify', 'secure', 'account', 'update', 'bank', 'free', 'click']\n",
        "\n",
        "def extract_url_features(url):\n",
        "    parsed = urlparse(url)\n",
        "    domain = parsed.netloc.lower()\n",
        "    path = parsed.path.lower()\n",
        "\n",
        "    features = {\n",
        "        'url_length': len(url),\n",
        "        'has_ip': 1 if re.match(r'(http[s]?://)?\\d{1,3}(\\.\\d{1,3}){3}', url) else 0,\n",
        "        'has_https': 1 if parsed.scheme == 'https' else 0,\n",
        "        'has_at': 1 if '@' in url else 0,\n",
        "        'num_dots': url.count('.'),\n",
        "        'has_dash': 1 if '-' in domain else 0,\n",
        "        'num_subdomains': len(domain.split('.')) - 2 if len(domain.split('.')) > 2 else 0,\n",
        "        'has_suspicious_word': 1 if any(word in url.lower() for word in suspicious_words) else 0,\n",
        "        'is_shortened': 1 if any(short in domain for short in shorteners) else 0,\n",
        "        'ends_with_slash': 1 if url.endswith('/') else 0,\n",
        "    }\n",
        "\n",
        "    return list(features.values())\n",
        "\n",
        "# ----------------------------------------\n",
        "# Step 2: Sample Dataset\n",
        "# ----------------------------------------\n",
        "\n",
        "data = [\n",
        "    (\"http://www.legitimatewebsite.com\", 0),\n",
        "    (\"http://phishingsite.xyz/login\", 1),\n",
        "    (\"https://secure.banking.com/verify\", 1),\n",
        "    (\"http://192.168.1.100/update\", 1),\n",
        "    (\"https://anotherlegitwebsite.org\", 0),\n",
        "    (\"https://bit.ly/fakeupdate\", 1),\n",
        "    (\"https://accounts.google.com\", 0),\n",
        "    (\"http://freemoney.bogussite.com\", 1),\n",
        "    (\"https://tinyurl.com/login-help\", 1),\n",
        "    (\"http://my-bank-verification.com\", 1)\n",
        "]\n",
        "\n",
        "urls, labels = zip(*data)\n",
        "X = np.array([extract_url_features(url) for url in urls])\n",
        "y = np.array(labels)\n",
        "\n",
        "# ----------------------------------------\n",
        "# Step 3: Split Dataset\n",
        "# ----------------------------------------\n",
        "\n",
        "X_train, X_test, y_train, y_test = train_test_split(X, y, test_size=0.3, random_state=42)\n",
        "\n",
        "# ----------------------------------------\n",
        "# Step 4: Build Neural Network Model\n",
        "# ----------------------------------------\n",
        "\n",
        "model = Sequential([\n",
        "    Dense(16, activation='relu', input_shape=(X.shape[1],)),\n",
        "    Dense(8, activation='relu'),\n",
        "    Dense(1, activation='sigmoid')\n",
        "])\n",
        "\n",
        "model.compile(optimizer='adam', loss='binary_crossentropy', metrics=['accuracy'])\n",
        "model.fit(X_train, y_train, epochs=50, batch_size=2, validation_split=0.1, verbose=0)\n",
        "\n",
        "# ----------------------------------------\n",
        "# Step 5: Evaluate the Model\n",
        "# ----------------------------------------\n",
        "\n",
        "loss, accuracy = model.evaluate(X_test, y_test, verbose=0)\n",
        "print(f\"\\n✅ Model Accuracy: {accuracy * 100:.2f}%\")\n",
        "\n",
        "# ----------------------------------------\n",
        "# Step 6: Real-Time URL Prediction\n",
        "# ----------------------------------------\n",
        "\n",
        "def predict_url(url):\n",
        "    features = np.array([extract_url_features(url)])\n",
        "    prediction = model.predict(features)[0][0]\n",
        "    if prediction > 0.5:\n",
        "        print(\"⚠️ Warning: This URL might be phishing!\")\n",
        "    else:\n",
        "        print(\"✅ This URL appears to be safe.\")\n",
        "\n",
        "# ----------------------------------------\n",
        "# Step 7: Test Real-Time Input\n",
        "# ----------------------------------------\n",
        "\n",
        "# Try any URL here\n",
        "user_url = input(\"\\nEnter a URL to check: \")\n",
        "predict_url(user_url)\n"
      ]
    }
  ]
}